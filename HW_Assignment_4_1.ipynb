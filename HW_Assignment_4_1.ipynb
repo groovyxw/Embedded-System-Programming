{
  "nbformat": 4,
  "nbformat_minor": 0,
  "metadata": {
    "colab": {
      "provenance": [],
      "authorship_tag": "ABX9TyNMtMMoMeZtp6BuT2M/RSLu",
      "include_colab_link": true
    },
    "kernelspec": {
      "name": "python3",
      "display_name": "Python 3"
    },
    "language_info": {
      "name": "python"
    }
  },
  "cells": [
    {
      "cell_type": "markdown",
      "metadata": {
        "id": "view-in-github",
        "colab_type": "text"
      },
      "source": [
        "<a href=\"https://colab.research.google.com/github/groovyxw/Embedded-System-Programming/blob/main/HW_Assignment_4_1.ipynb\" target=\"_parent\"><img src=\"https://colab.research.google.com/assets/colab-badge.svg\" alt=\"Open In Colab\"/></a>"
      ]
    },
    {
      "cell_type": "markdown",
      "source": [
        "# 1. Write a high order function to make withdrawal from the balance in bank account by nonlocal variable.\n",
        "\n",
        "def mk_wd(balance):\n",
        "    \"\"\"\n",
        "    Return the balance after withdrawal since inception\n",
        "    >>> rem = mk_wd (100)         # deposit $100 \n",
        "    >>> rem(10)\n",
        "    90\n",
        "    >>> rem (20)\n",
        "    70\n",
        "    >>> rem (100)\n",
        "   'Insufficient funds'\n",
        "   \"\"\""
      ],
      "metadata": {
        "id": "ZXB6f5xFyRPA"
      }
    },
    {
      "cell_type": "code",
      "execution_count": 33,
      "metadata": {
        "colab": {
          "base_uri": "https://localhost:8080/"
        },
        "id": "Yxnn4t1Xx9iB",
        "outputId": "32d81a83-1e30-4c21-d7c6-1e65d29d2b44"
      },
      "outputs": [
        {
          "output_type": "stream",
          "name": "stdout",
          "text": [
            "90\n",
            "70\n",
            "Insufficient funds\n",
            "None\n"
          ]
        }
      ],
      "source": [
        "\n",
        "def mk_wd(bal):\n",
        "  def rem(x):\n",
        "    nonlocal bal\n",
        "    bal = bal - x\n",
        "    if bal < 0:\n",
        "      print(\"Insufficient funds\")\n",
        "      return\n",
        "    return bal\n",
        "  return rem\n",
        "\n",
        "rem = mk_wd (100)         # deposit $100 \n",
        "print(rem(10))\n",
        "print(rem (20))\n",
        "print(rem (100))"
      ]
    },
    {
      "cell_type": "markdown",
      "source": [
        "# 2. Write a function that deletes all instances of an element from a list. \n",
        "def  rm_all(elem, lst): \n",
        "\"\"\" \n",
        ">>> x = [3, 1, 2, 1, 5, 1, 1, 7] \n",
        ">>> rm_all (1, x) \n",
        ">>> x \n",
        "[3, 2, 5, 7] \n",
        "\"\"\""
      ],
      "metadata": {
        "id": "abjOz3TEursN"
      }
    },
    {
      "cell_type": "code",
      "source": [
        "def rm_all(elem, lst):\n",
        "  num = lst.count(elem)\n",
        "  for i in range(num):\n",
        "    lst.remove(elem)\n",
        "  return lst\n",
        "\n",
        "x= [3, 1, 2, 1, 5, 1, 1, 7] \n",
        "rm_all(1, x)\n",
        "x"
      ],
      "metadata": {
        "colab": {
          "base_uri": "https://localhost:8080/"
        },
        "id": "I2asNs9juvqL",
        "outputId": "fa0f595e-4ebb-4058-9525-5575226c9deb"
      },
      "execution_count": 1,
      "outputs": [
        {
          "output_type": "execute_result",
          "data": {
            "text/plain": [
              "[3, 2, 5, 7]"
            ]
          },
          "metadata": {},
          "execution_count": 1
        }
      ]
    },
    {
      "cell_type": "markdown",
      "source": [
        "# 3. Write a function that takes in three arguments x, elem, and a list, and adds as many \"elem\"s to the end of the list as there are x’s. \n",
        "def add_many(x, elem, lst): \n",
        "\"\"\" \n",
        "Adds elem to the end of lst the number of times x occurs in lst. \n",
        ">>> lst = [1, 2, 4, 2, 1] \n",
        ">>> add_many (2, 5, lst) \n",
        ">>> lst \n",
        "[1, 2, 4, 2, 1, 5, 5] \n",
        "\"\"\"\n"
      ],
      "metadata": {
        "id": "RHixbSuZvVCi"
      }
    },
    {
      "cell_type": "code",
      "source": [
        "def add_many(x, elem, lst):\n",
        "  for i in range(x):\n",
        "    lst.append(elem)\n",
        "  return lst\n",
        "\n",
        "lst = [1, 2, 4, 2, 1] \n",
        "add_many (2, 5, lst) \n",
        "lst "
      ],
      "metadata": {
        "colab": {
          "base_uri": "https://localhost:8080/"
        },
        "id": "cWlxoUxWvaje",
        "outputId": "6b7de6b3-106f-4bb8-f5e1-9bb8e18673c4"
      },
      "execution_count": 2,
      "outputs": [
        {
          "output_type": "execute_result",
          "data": {
            "text/plain": [
              "[1, 2, 4, 2, 1, 5, 5]"
            ]
          },
          "metadata": {},
          "execution_count": 2
        }
      ]
    },
    {
      "cell_type": "markdown",
      "source": [
        "# 4. Write a function to create a new list from given a \"suits\" list and a number list\n",
        "def  f (suits, numbers):\n",
        "\"\"\"Creates a new list (2-element list as one element in a new list) with the \n",
        "given suits and numbers. Each element in the returned list should be of the \n",
        "form [suit, number].\n",
        "    >>> f (['S', 'C'], [1, 2, 3])"
      ],
      "metadata": {
        "id": "mZWUQDl5wKyY"
      }
    },
    {
      "cell_type": "code",
      "source": [
        "def f(suits, numbers):\n",
        "  res = []\n",
        "  if not suits or not numbers:\n",
        "    return res\n",
        "  for s in suits:\n",
        "    for n in numbers:\n",
        "      res.append([s, n])\n",
        "  return res\n",
        "\n",
        "print(f (['S', 'C'], [1, 2, 3]))\n",
        "    \n",
        "print(f (['S', 'C'], [3, 2, 1]))\n",
        "print(f ([], [3, 2, 1]))\n",
        "print(f (['S', 'C'], []))"
      ],
      "metadata": {
        "colab": {
          "base_uri": "https://localhost:8080/"
        },
        "id": "p19jr5zlwuWZ",
        "outputId": "db84fb8c-e288-4c10-cc20-b277ee3206ee"
      },
      "execution_count": 45,
      "outputs": [
        {
          "output_type": "stream",
          "name": "stdout",
          "text": [
            "[['S', 1], ['S', 2], ['S', 3], ['C', 1], ['C', 2], ['C', 3]]\n",
            "[['S', 3], ['S', 2], ['S', 1], ['C', 3], ['C', 2], ['C', 1]]\n",
            "[]\n",
            "[]\n"
          ]
        }
      ]
    },
    {
      "cell_type": "markdown",
      "source": [
        "# 5. Write a function to merge 2 sorted lists a and b, and then return a new list with a sorted \n",
        "order by RECURSIVE calls.\n",
        "def mrg(ls1, ls2):\n",
        "    \"\"\"Merges two sorted lists recursively.\n",
        "    >>> mrg ([1, 3, 5], [2, 4, 6])\n",
        "    [1, 2, 3, 4, 5, 6]\n",
        "    >>> mrg ([], [2, 4, 6])\n",
        "    [2, 4, 6]\n",
        "    >>> mrg ([1, 2, 3], [])\n",
        "    [1, 2, 3]\n",
        "    >>> mrg ([5, 7], [2, 4, 6])\n",
        "    [2, 4, 5, 6, 7]\n",
        "    \"\"\""
      ],
      "metadata": {
        "id": "aAfolbwF0ihn"
      }
    },
    {
      "cell_type": "code",
      "source": [
        "def mrg(ls1, ls2):\n",
        "  if not ls1 :\n",
        "    return ls2\n",
        "  if not ls2:\n",
        "    return ls1\n",
        "\n",
        "  p1, p2 = 0,0\n",
        "  res = []\n",
        "\n",
        "  while (p1 < len(ls1) and p2 < len(ls2)):\n",
        "    if ls1[p1] < ls2[p2]:\n",
        "      res.append(ls1[p1])\n",
        "      p1 += 1\n",
        "    else:\n",
        "      res.append(ls2[p2])\n",
        "      p2 += 1\n",
        "\n",
        "  if(p1 < len(ls1)):\n",
        "    res.extend(ls1[p1:])\n",
        "  else:\n",
        "    res.extend(ls2[p2:])\n",
        "\n",
        "  return res\n",
        "\n",
        "print(mrg ([1, 3, 5], [2, 4, 6]))\n",
        "print(mrg ([], [2, 4, 6]))\n",
        "print(mrg ([1, 2, 3], []))\n",
        "print(mrg ([5, 7], [2, 4, 6]))\n"
      ],
      "metadata": {
        "colab": {
          "base_uri": "https://localhost:8080/"
        },
        "id": "uAUyWHzE0lfm",
        "outputId": "bd2ad6e1-af4f-4b52-855e-58d3ae9870bf"
      },
      "execution_count": 26,
      "outputs": [
        {
          "output_type": "stream",
          "name": "stdout",
          "text": [
            "[1, 2, 3, 4, 5, 6]\n",
            "[2, 4, 6]\n",
            "[1, 2, 3]\n",
            "[2, 4, 5, 6, 7]\n"
          ]
        }
      ]
    },
    {
      "cell_type": "markdown",
      "source": [
        "# 6. Write the function to flatten the deep list.\n",
        "def fltn(ls):\n",
        "    \"\"\"Return a new version of list as follows.\n",
        "    >>> fltn ([1, 2, 3])     # normal list\n",
        "    [1, 2, 3]\n",
        "    >>> x = [1, [2, 3], 4]      # deep list\n",
        "    >>> fltn (x)\n",
        "    [1, 2, 3, 4]\n",
        "    >>> x = [[1, [1, 1]], 1, [1, 1]] # deep list\n",
        "    >>> fltn (x)\n",
        "    [1, 1, 1, 1, 1, 1]\n",
        "    \"\"\"\""
      ],
      "metadata": {
        "id": "3HER1xh73Exz"
      }
    },
    {
      "cell_type": "code",
      "source": [
        "def fltn(s):\n",
        "  res = []\n",
        "  for ele in s:\n",
        "    if isinstance(ele, list):\n",
        "      res.extend(fltn(ele))\n",
        "    else:\n",
        "      res.append(ele)\n",
        "\n",
        "  return res\n",
        "\n",
        "print(fltn ([1, 2, 3]) )    # normal list\n",
        "x = [1, [2, 3], 4]      # deep list\n",
        "print(fltn (x))\n",
        "x = [[1, [1, 1]], 1, [1, 1]] # deep list\n",
        "print(fltn (x))\n",
        "\n"
      ],
      "metadata": {
        "colab": {
          "base_uri": "https://localhost:8080/"
        },
        "id": "isNEplj03K9-",
        "outputId": "4e56af3d-349d-40da-f0b9-1f9f717620f2"
      },
      "execution_count": 9,
      "outputs": [
        {
          "output_type": "stream",
          "name": "stdout",
          "text": [
            "[1, 2, 3]\n",
            "[1, 2, 3, 4]\n",
            "[1, 1, 1, 1, 1, 1]\n"
          ]
        }
      ]
    },
    {
      "cell_type": "markdown",
      "source": [
        "# 7. Define a function to check if the element exists in the list or not.\n",
        "def   chk_elm(lst, n): \n",
        "\"\"\"\n",
        ">>> a = [ [1,[2]], 3, [ [4], [5,[6] ] ]   ] \n",
        ">>> chk_elm (a, 6)\n",
        "True\n",
        "\"\"\""
      ],
      "metadata": {
        "id": "nvbpX-gL4dZ8"
      }
    },
    {
      "cell_type": "code",
      "source": [
        "def chk_elm(lst, n): \n",
        "  for ele in lst:\n",
        "    if isinstance(ele, list):\n",
        "      if chk_elm(ele, n):\n",
        "        return True\n",
        "    else:\n",
        "      if n == ele:\n",
        "        return True\n",
        "\n",
        "  return False\n",
        "\n",
        "a = [ [1,[2]], 3, [ [4], [5,[6] ] ]   ] \n",
        "chk_elm (a, 6)"
      ],
      "metadata": {
        "colab": {
          "base_uri": "https://localhost:8080/"
        },
        "id": "g5AeSgPR4h3_",
        "outputId": "abb8a645-5c2a-433a-8acd-260215428d4b"
      },
      "execution_count": 12,
      "outputs": [
        {
          "output_type": "execute_result",
          "data": {
            "text/plain": [
              "True"
            ]
          },
          "metadata": {},
          "execution_count": 12
        }
      ]
    },
    {
      "cell_type": "markdown",
      "source": [
        "# 8. Write a function to check whether the input argument list is symmetric or not in \n",
        "recursive call.\n",
        "def sym(l):\n",
        "    \"\"\"Returns whether a list is symmetric or not\n",
        "    >>> sym ([])\n",
        "    True\n",
        "    >>> sym ([1])\n",
        "    True\n",
        "    >>> sym ([1, 4, 5, 1])\n",
        "    False\n",
        "    >>> sym ([1, 4, 4, 1])\n",
        "    True\n",
        "    >>> sym (['l', 'o', 'l'])\n",
        "    True\n",
        "    \"\"\""
      ],
      "metadata": {
        "id": "PF9x48cm__8m"
      }
    },
    {
      "cell_type": "code",
      "source": [
        "def sym(l):\n",
        "  if not l or len(l) <= 1:\n",
        "    return True\n",
        "\n",
        "  if l[0] != l[-1]:\n",
        "    return False\n",
        "\n",
        "  return sym(l[1:-1])\n",
        "\n",
        "print(sym ([]))\n",
        "print(sym ([1]))\n",
        "print(sym ([1, 4, 5, 1]))\n",
        "print(sym ([1, 4, 4, 1]))\n",
        "print(sym (['l', 'o', 'l']))"
      ],
      "metadata": {
        "colab": {
          "base_uri": "https://localhost:8080/"
        },
        "id": "wUwV0XmZABPg",
        "outputId": "0f26654b-81a0-49df-f613-b05d6ecdcf95"
      },
      "execution_count": 27,
      "outputs": [
        {
          "output_type": "stream",
          "name": "stdout",
          "text": [
            "True\n",
            "True\n",
            "False\n",
            "True\n",
            "True\n"
          ]
        }
      ]
    },
    {
      "cell_type": "markdown",
      "source": [
        "# 9. Write a function in recursive call that takes in a list lst, a function g, and an initial value m. This function will fold lst starting at the beginning.\n",
        "If lst is [1, 2, 3, 4, 5] then \n",
        "the function g is applied as follows:\n",
        "g (g (g (g (g (m, 1), 2), 3), 4), 5)\n",
        "from operator import add, sub, mul\n",
        "def fld (lst, g, m):\n",
        "\"\"\"Return the result of applying the function g to the initial value m     \n",
        "and the first element in lst, and repeatedly applying g to this result \n",
        "and the next element in lst until it reaches the end of the list.\n",
        "    >>> s = [3, 2, 1]\n",
        "    >>> fld (s, sub, 0)      # sub(sub(sub(0, 3), 2), 1)\n",
        "    -6\n",
        "    >>> fld (s, add, 0)      # add(add(add(0, 3), 2), 1)\n",
        "    6\n",
        "    >>> fld (s, mul, 1)      # mul(mul(mul(1, 3), 2), 1)\n",
        "    6\n",
        "    >>> fld ([], sub, 100)   # return m if s is empty\n",
        "    100\n",
        "    \"\"\""
      ],
      "metadata": {
        "id": "sZUjpcZMCB0X"
      }
    },
    {
      "cell_type": "code",
      "source": [
        "from operator import sub, add, mul\n",
        "def fld (lst, g, m):\n",
        "  if not lst:\n",
        "    return m\n",
        "  elif(len(lst) == 1):\n",
        "    return g(m, lst[0])\n",
        "  else:\n",
        "    val = lst[0]\n",
        "    return g(fld(lst[1:], g, m),val)\n",
        "\n",
        "s = [3, 2, 1]\n",
        "print(fld (s, sub, 0) )    # sub(sub(sub(0, 3), 2), 1)\n",
        "print(fld (s, add, 0)  )    # add(add(add(0, 3), 2), 1)\n",
        "print(fld (s, mul, 1)   )   # mul(mul(mul(1, 3), 2), 1)\n",
        "print(fld ([], sub, 100))\n",
        "\n",
        "# print(r1, r2, r3, r4, end='\\n')"
      ],
      "metadata": {
        "colab": {
          "base_uri": "https://localhost:8080/"
        },
        "id": "4SOly0ifCUAC",
        "outputId": "033612c5-5885-4952-cd03-2c96b8a8ba05"
      },
      "execution_count": 29,
      "outputs": [
        {
          "output_type": "stream",
          "name": "stdout",
          "text": [
            "-6\n",
            "6\n",
            "6\n",
            "100\n"
          ]
        }
      ]
    },
    {
      "cell_type": "markdown",
      "source": [
        "# 10. Implement a function to create 2D array as follows\n",
        "def   crte_2d_arr(rows, columns):\n",
        "    \"\"\"\n",
        "    >>> crte_2d_arr(3, 5)\n",
        "    [['-', '-', '-', '-', '-'], ['-', '-', '-', '-', '-'], ['-', '-', '-', '-', '-']]\n",
        "    \"\"\""
      ],
      "metadata": {
        "id": "-pIiQxc0CtUe"
      }
    },
    {
      "cell_type": "code",
      "source": [
        "def crte_2d_arr(rows, columns):\n",
        "  return [['-' for i in range(columns)] for j in range(rows)]\n",
        "\n",
        "crte_2d_arr(3, 5)"
      ],
      "metadata": {
        "colab": {
          "base_uri": "https://localhost:8080/"
        },
        "id": "3up-ogRSCukt",
        "outputId": "fc5db0a7-c21d-43c6-fbeb-9e9c15e9ee41"
      },
      "execution_count": 30,
      "outputs": [
        {
          "output_type": "execute_result",
          "data": {
            "text/plain": [
              "[['-', '-', '-', '-', '-'],\n",
              " ['-', '-', '-', '-', '-'],\n",
              " ['-', '-', '-', '-', '-']]"
            ]
          },
          "metadata": {},
          "execution_count": 30
        }
      ]
    }
  ]
}