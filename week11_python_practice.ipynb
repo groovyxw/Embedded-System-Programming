{
  "nbformat": 4,
  "nbformat_minor": 0,
  "metadata": {
    "colab": {
      "provenance": [],
      "authorship_tag": "ABX9TyMpwHkOOvTSrEldoM/cgbHv",
      "include_colab_link": true
    },
    "kernelspec": {
      "name": "python3",
      "display_name": "Python 3"
    },
    "language_info": {
      "name": "python"
    }
  },
  "cells": [
    {
      "cell_type": "markdown",
      "metadata": {
        "id": "view-in-github",
        "colab_type": "text"
      },
      "source": [
        "<a href=\"https://colab.research.google.com/github/groovyxw/Embedded-System-Programming/blob/main/week11_python_practice.ipynb\" target=\"_parent\"><img src=\"https://colab.research.google.com/assets/colab-badge.svg\" alt=\"Open In Colab\"/></a>"
      ]
    },
    {
      "cell_type": "markdown",
      "source": [
        "# Decorator"
      ],
      "metadata": {
        "id": "oaWmTjsAxFJx"
      }
    },
    {
      "cell_type": "code",
      "execution_count": 4,
      "metadata": {
        "colab": {
          "base_uri": "https://localhost:8080/"
        },
        "id": "dooWBbezwHNz",
        "outputId": "207d5dea-a498-434a-a227-676945ac687b"
      },
      "outputs": [
        {
          "output_type": "stream",
          "name": "stdout",
          "text": [
            "Hello World!\n",
            "Welcome!\n",
            "Hello World!\n",
            "Happy!\n"
          ]
        }
      ],
      "source": [
        "def hello(f):\n",
        "  def g():\n",
        "    print('Hello World!')\n",
        "    return f()\n",
        "  return g\n",
        "def f():\n",
        "  print(\"Happy!\")\n",
        "\n",
        "@hello\n",
        "def welcome():\n",
        "  print(\"Welcome!\")\n",
        "\n",
        "welcome()\n",
        "hello(f)()"
      ]
    },
    {
      "cell_type": "code",
      "source": [
        "def decor1(func): \n",
        "  def inner():\n",
        "    x = func()\n",
        "    return x * x\n",
        "  return inner\n",
        "\n",
        "def decor(func):\n",
        "  def inner():\n",
        "    x = func()\n",
        "    return 2 * x \n",
        "  return inner \n",
        "\n",
        "@decor1\n",
        "@decor \n",
        "def num(): \n",
        "  return 10\n",
        "\n",
        "num()"
      ],
      "metadata": {
        "colab": {
          "base_uri": "https://localhost:8080/"
        },
        "id": "pCdg55AmyEU7",
        "outputId": "7b36fb5f-c048-4e6a-a0f6-03a9aeba202f"
      },
      "execution_count": 5,
      "outputs": [
        {
          "output_type": "execute_result",
          "data": {
            "text/plain": [
              "400"
            ]
          },
          "metadata": {},
          "execution_count": 5
        }
      ]
    },
    {
      "cell_type": "markdown",
      "source": [
        "# Exception"
      ],
      "metadata": {
        "id": "wrf2Gzi32CMx"
      }
    },
    {
      "cell_type": "code",
      "source": [
        "def hi():\n",
        "  print(\"Testing!\")\n",
        "  a = 123/0\n",
        "  print(\"Testing again!\")\n",
        "\n",
        "hi()"
      ],
      "metadata": {
        "colab": {
          "base_uri": "https://localhost:8080/",
          "height": 339
        },
        "id": "UPxJlbw_2D6g",
        "outputId": "e78bed9f-02c6-4049-8db5-932e1a17f6e4"
      },
      "execution_count": 6,
      "outputs": [
        {
          "output_type": "stream",
          "name": "stdout",
          "text": [
            "Testing!\n"
          ]
        },
        {
          "output_type": "error",
          "ename": "ZeroDivisionError",
          "evalue": "ignored",
          "traceback": [
            "\u001b[0;31m---------------------------------------------------------------------------\u001b[0m",
            "\u001b[0;31mZeroDivisionError\u001b[0m                         Traceback (most recent call last)",
            "\u001b[0;32m<ipython-input-6-136924c89ae1>\u001b[0m in \u001b[0;36m<module>\u001b[0;34m\u001b[0m\n\u001b[1;32m      4\u001b[0m   \u001b[0mprint\u001b[0m\u001b[0;34m(\u001b[0m\u001b[0;34m\"Testing again!\"\u001b[0m\u001b[0;34m)\u001b[0m\u001b[0;34m\u001b[0m\u001b[0;34m\u001b[0m\u001b[0m\n\u001b[1;32m      5\u001b[0m \u001b[0;34m\u001b[0m\u001b[0m\n\u001b[0;32m----> 6\u001b[0;31m \u001b[0mhi\u001b[0m\u001b[0;34m(\u001b[0m\u001b[0;34m)\u001b[0m\u001b[0;34m\u001b[0m\u001b[0;34m\u001b[0m\u001b[0m\n\u001b[0m",
            "\u001b[0;32m<ipython-input-6-136924c89ae1>\u001b[0m in \u001b[0;36mhi\u001b[0;34m()\u001b[0m\n\u001b[1;32m      1\u001b[0m \u001b[0;32mdef\u001b[0m \u001b[0mhi\u001b[0m\u001b[0;34m(\u001b[0m\u001b[0;34m)\u001b[0m\u001b[0;34m:\u001b[0m\u001b[0;34m\u001b[0m\u001b[0;34m\u001b[0m\u001b[0m\n\u001b[1;32m      2\u001b[0m   \u001b[0mprint\u001b[0m\u001b[0;34m(\u001b[0m\u001b[0;34m\"Testing!\"\u001b[0m\u001b[0;34m)\u001b[0m\u001b[0;34m\u001b[0m\u001b[0;34m\u001b[0m\u001b[0m\n\u001b[0;32m----> 3\u001b[0;31m   \u001b[0ma\u001b[0m \u001b[0;34m=\u001b[0m \u001b[0;36m123\u001b[0m\u001b[0;34m/\u001b[0m\u001b[0;36m0\u001b[0m\u001b[0;34m\u001b[0m\u001b[0;34m\u001b[0m\u001b[0m\n\u001b[0m\u001b[1;32m      4\u001b[0m   \u001b[0mprint\u001b[0m\u001b[0;34m(\u001b[0m\u001b[0;34m\"Testing again!\"\u001b[0m\u001b[0;34m)\u001b[0m\u001b[0;34m\u001b[0m\u001b[0;34m\u001b[0m\u001b[0m\n\u001b[1;32m      5\u001b[0m \u001b[0;34m\u001b[0m\u001b[0m\n",
            "\u001b[0;31mZeroDivisionError\u001b[0m: division by zero"
          ]
        }
      ]
    },
    {
      "cell_type": "code",
      "source": [
        "def hi():\n",
        "  \n",
        "  try:\n",
        "    print(\"Testing!\")\n",
        "    a = 123/0\n",
        "  except:\n",
        "    print(\"Testing again!\")\n",
        "\n",
        "hi()"
      ],
      "metadata": {
        "colab": {
          "base_uri": "https://localhost:8080/"
        },
        "id": "gq63gx_w2kG0",
        "outputId": "33c8f6f4-3bb4-455d-b3a5-02c16aa8cdb9"
      },
      "execution_count": 8,
      "outputs": [
        {
          "output_type": "stream",
          "name": "stdout",
          "text": [
            "Testing!\n",
            "Testing again!\n"
          ]
        }
      ]
    },
    {
      "cell_type": "code",
      "source": [
        "def test():\n",
        "  try:\n",
        "    print('Hello')\n",
        "    a=1/0 # error\n",
        "    print('World')\n",
        "  except:\n",
        "    pass # no statement\n",
        "  print('This is end of def func')\n",
        "\n",
        "test()"
      ],
      "metadata": {
        "colab": {
          "base_uri": "https://localhost:8080/"
        },
        "id": "d__mvfDg4d0T",
        "outputId": "50bdc8ce-cac4-4620-dadc-5c4c20b42b5a"
      },
      "execution_count": 9,
      "outputs": [
        {
          "output_type": "stream",
          "name": "stdout",
          "text": [
            "Hello\n",
            "This is end of def func\n"
          ]
        }
      ]
    },
    {
      "cell_type": "code",
      "source": [
        "def test():\n",
        "  try:\n",
        "    x=1/0\n",
        "  except FileNotFoundError:\n",
        "    print('Something is wrong')\n",
        "  except ZeroDivisionError:\n",
        "    print(\"Denum can't be zero\")\n",
        "  finally:\n",
        "    print('cleaning up file')\n",
        "\n",
        "test()"
      ],
      "metadata": {
        "colab": {
          "base_uri": "https://localhost:8080/"
        },
        "id": "pvDUpXl44qaZ",
        "outputId": "40b58466-0c23-42e0-97a1-352ac318c3c1"
      },
      "execution_count": 10,
      "outputs": [
        {
          "output_type": "stream",
          "name": "stdout",
          "text": [
            "Denum can't be zero\n",
            "cleaning up file\n"
          ]
        }
      ]
    },
    {
      "cell_type": "markdown",
      "source": [
        "# class variable vs obj self.* variable"
      ],
      "metadata": {
        "id": "9goPqlxGIhPQ"
      }
    },
    {
      "cell_type": "code",
      "source": [
        "class A:\n",
        "  a = 123\n",
        "  a += 1\n",
        "  def __init__(self, a):\n",
        "    self.a = a\n",
        "\n",
        "x = A(456)\n",
        "print(x.a, A.a)\n",
        "\n",
        "y = A(789)\n",
        "# A.a += 3\n",
        "print(x.a, A.a)"
      ],
      "metadata": {
        "colab": {
          "base_uri": "https://localhost:8080/"
        },
        "id": "rxlDIS3EHuvZ",
        "outputId": "5efc8367-07ce-43ff-83dd-1bc085a81973"
      },
      "execution_count": 18,
      "outputs": [
        {
          "output_type": "stream",
          "name": "stdout",
          "text": [
            "456 124\n",
            "456 124\n"
          ]
        }
      ]
    }
  ]
}