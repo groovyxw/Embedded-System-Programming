{
  "nbformat": 4,
  "nbformat_minor": 0,
  "metadata": {
    "colab": {
      "provenance": [],
      "authorship_tag": "ABX9TyNHOW2O28K4ZjYVSKxr9EQ8",
      "include_colab_link": true
    },
    "kernelspec": {
      "name": "python3",
      "display_name": "Python 3"
    },
    "language_info": {
      "name": "python"
    }
  },
  "cells": [
    {
      "cell_type": "markdown",
      "metadata": {
        "id": "view-in-github",
        "colab_type": "text"
      },
      "source": [
        "<a href=\"https://colab.research.google.com/github/groovyxw/Embedded-System-Programming/blob/main/Homework_Assignment_6.ipynb\" target=\"_parent\"><img src=\"https://colab.research.google.com/assets/colab-badge.svg\" alt=\"Open In Colab\"/></a>"
      ]
    },
    {
      "cell_type": "code",
      "execution_count": 12,
      "metadata": {
        "id": "3P3jegAkEXAS"
      },
      "outputs": [],
      "source": [
        "def tree(root, branches=[]):\n",
        "  for branch in branches:\n",
        "    assert is_tree (branch), 'branches must be trees'\n",
        "  return [root] + list(branches)\n",
        "def root(tree):\n",
        "  return tree[0]\n",
        "def branches (tree):\n",
        "  return tree[1:]\n",
        "def is_tree (tree):\n",
        "  if type(tree) != list or len (tree) < 1:\n",
        "    return False\n",
        "  for branch in branches(tree):\n",
        "    if not is_tree (branch):\n",
        "      return False\n",
        "  return True\n",
        "\n",
        "def is_leaf (tree):\n",
        "  return not branches(tree)\n",
        "\n",
        "empty = []"
      ]
    },
    {
      "cell_type": "markdown",
      "source": [
        "# 1.\tWrite a function to check if a tree contains some value.\n",
        "\n",
        "def   has_itm(t, e):\n",
        "  \"\"\"\n",
        "   >>> has_itm (tree(11, [tree(12), tree(13, [tree(14),tree(15)])] ),  11)\n",
        "   True\n",
        "   >>> has_itm (tree(11, [tree(12), tree(13, [tree(14),tree(15)])] ),  16)\n",
        "   False\n",
        "  \"\"\"\n"
      ],
      "metadata": {
        "id": "9TyWhKxNEapp"
      }
    },
    {
      "cell_type": "code",
      "source": [
        "def has_itm(t, e):\n",
        "  if not is_tree(t):\n",
        "    return False\n",
        "  else:\n",
        "    if root(t) == e:\n",
        "      return True\n",
        "    return has_itm(branches(t),e)\n",
        "\n",
        "print(has_itm (tree(11, [tree(12), tree(13, [tree(14),tree(15)])] ),  11))\n",
        "\n",
        "print(has_itm (tree(11, [tree(12), tree(13, [tree(14),tree(15)])] ),  16))"
      ],
      "metadata": {
        "colab": {
          "base_uri": "https://localhost:8080/"
        },
        "id": "GvwluxLOFRqJ",
        "outputId": "19ec523b-831e-4aed-c093-bf6b5ad62dd0"
      },
      "execution_count": 7,
      "outputs": [
        {
          "output_type": "stream",
          "name": "stdout",
          "text": [
            "True\n",
            "False\n"
          ]
        }
      ]
    },
    {
      "cell_type": "markdown",
      "source": [
        "# 2.\tCreate a function to calculate the average value at each node in a tree.\n",
        "\n",
        "def   ave(t, e):\n",
        "  \"\"\"\n",
        "  >>> ave(tree(11, [tree(12), tree(13, [tree(14),tree(15)])]))\n",
        "  13.0\t\t\t# (11+12+13+14+15)/5 = 13.0\n",
        "  \"\"\"\n"
      ],
      "metadata": {
        "id": "b95jXuDhHbh_"
      }
    },
    {
      "cell_type": "code",
      "source": [
        "def traceTree(t):\n",
        "  if is_leaf(t):\n",
        "    return root(t), 1\n",
        "\n",
        "  sum, num = root(t),1\n",
        "  for branch in branches(t):\n",
        "    sb,nb = traceTree(branch)\n",
        "    num += nb\n",
        "    sum += sb\n",
        "  return sum, num\n",
        "\n",
        "def ave(t):\n",
        "  if not is_tree(t):\n",
        "    return\n",
        "  sum,num = traceTree(t)\n",
        "  return sum/num\n",
        "\n",
        "print(ave(tree(11, [tree(12), tree(13, [tree(14),tree(15)])])))"
      ],
      "metadata": {
        "colab": {
          "base_uri": "https://localhost:8080/"
        },
        "id": "6jqDjE_sHgQ1",
        "outputId": "e31b2b48-c65d-4bc1-ee68-dc1899db62ab"
      },
      "execution_count": 22,
      "outputs": [
        {
          "output_type": "stream",
          "name": "stdout",
          "text": [
            "13.0\n"
          ]
        }
      ]
    }
  ]
}