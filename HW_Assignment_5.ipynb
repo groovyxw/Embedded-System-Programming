{
  "nbformat": 4,
  "nbformat_minor": 0,
  "metadata": {
    "colab": {
      "provenance": [],
      "authorship_tag": "ABX9TyPLSbPTzk0EQc6tjBEn//OT",
      "include_colab_link": true
    },
    "kernelspec": {
      "name": "python3",
      "display_name": "Python 3"
    },
    "language_info": {
      "name": "python"
    }
  },
  "cells": [
    {
      "cell_type": "markdown",
      "metadata": {
        "id": "view-in-github",
        "colab_type": "text"
      },
      "source": [
        "<a href=\"https://colab.research.google.com/github/groovyxw/Embedded-System-Programming/blob/main/HW_Assignment_5.ipynb\" target=\"_parent\"><img src=\"https://colab.research.google.com/assets/colab-badge.svg\" alt=\"Open In Colab\"/></a>"
      ]
    },
    {
      "cell_type": "markdown",
      "source": [
        "#1. Write a function to check if the element exists or not in the linked list.\n",
        "def   cntn_link(s, elm):\n",
        " \n",
        "  \"\"\"Return True if elm is in the linked list s \n",
        "  >>> cntn_link (link(1, link(2, link(3, empty))), 1) \n",
        "  True \n",
        "  >>> cntn_link (link(1, link(2, link(3, empty))), 4) \n",
        "  False \n",
        "  \"\"\""
      ],
      "metadata": {
        "id": "6dr1Di8OPL3v"
      }
    },
    {
      "cell_type": "code",
      "execution_count": 3,
      "metadata": {
        "colab": {
          "base_uri": "https://localhost:8080/"
        },
        "id": "qKZOr1MFPKbg",
        "outputId": "6ff4a1b8-5b6b-4f5c-c599-5ff91cae5179"
      },
      "outputs": [
        {
          "output_type": "stream",
          "name": "stdout",
          "text": [
            "True\n",
            "False\n"
          ]
        }
      ],
      "source": [
        "empty = []  \n",
        "def   is_link(s):      \n",
        "    return s == empty or (len(s) == 2 and is_link(s[1]))  \n",
        "def   link(first, rest):          \n",
        "    assert is_link(rest), \"rest must be a linked list.\"      \n",
        "    return [first, rest]\n",
        "\n",
        "def   first(s):          \n",
        "     assert is_link(s), \"first only applies to linked lists.\"      \n",
        "     assert s != empty, \"empty linked list has no first element.\"     \n",
        "     return s[0]  \n",
        "def   rest(s):     \n",
        "    assert is_link(s), \"rest only applies to linked lists.\"      \n",
        "    assert s != empty, \"empty linked list has no rest.\"      \n",
        "    return s[1]\n",
        "\n",
        "\n",
        "def  cntn_link(s, elm):\n",
        "  if(s == empty):\n",
        "    return False\n",
        "  elif first(s) == elm:\n",
        "    return True\n",
        "  else:\n",
        "    return cntn_link(rest(s), elm)\n",
        "\n",
        "print(cntn_link(link(1, link(2, link(3, empty))), 1) )\n",
        "print(cntn_link (link(1, link(2, link(3, empty))), 4) )"
      ]
    },
    {
      "cell_type": "markdown",
      "source": [
        "# 2. Create a function to print linked list as follows.\n",
        "def prnt_lnk(s):\n",
        "\"\"\" \n",
        ">>> prnt_lnk ( link(1, link(2, link(3, link(4, empty)))) ) \n",
        "<1 2 3 4>\n",
        "\"\"\""
      ],
      "metadata": {
        "id": "dAc0ANLgREcB"
      }
    },
    {
      "cell_type": "code",
      "source": [
        "def prnt_lnk(s):\n",
        "  if (s == empty):\n",
        "    print()\n",
        "  else:\n",
        "    print(first(s), end=\" \")\n",
        "    prnt_lnk(rest(s))\n",
        "\n",
        "prnt_lnk ( link(1, link(2, link(3, link(4, empty)))) ) "
      ],
      "metadata": {
        "colab": {
          "base_uri": "https://localhost:8080/"
        },
        "id": "fcUfczDNREEE",
        "outputId": "241bc066-4f39-4ecb-8fb1-89dc78328400"
      },
      "execution_count": 7,
      "outputs": [
        {
          "output_type": "stream",
          "name": "stdout",
          "text": [
            "1 2 3 4 \n"
          ]
        }
      ]
    },
    {
      "cell_type": "markdown",
      "source": [
        "# 3. Implement a function to create a new linked list in the reverse order.\n",
        "def rvrs_lnk(s):\n",
        "    \"\"\"Return linked list reversed\n",
        "    >>> rvrs_lnk (link(1, link(2, link(3, link(4, empty)))))\n",
        "    [4, [3, [2, [1, [ ] ]]]]\n",
        "  \"\"\""
      ],
      "metadata": {
        "id": "36A8iyB-R0kC"
      }
    },
    {
      "cell_type": "code",
      "source": [
        "def rvrs_lnk(s):\n",
        "  result = []\n",
        "  while s != empty:\n",
        "    result = link(first(s), result)\n",
        "    s = rest(s)\n",
        "\n",
        "  return result\n",
        "\n",
        "rvrs_lnk (link(1, link(2, link(3, link(4, empty)))))"
      ],
      "metadata": {
        "colab": {
          "base_uri": "https://localhost:8080/"
        },
        "id": "52SlKPsnR3DJ",
        "outputId": "f90e099b-a84c-4e0c-d5b6-3bfa6aa7384e"
      },
      "execution_count": 10,
      "outputs": [
        {
          "output_type": "execute_result",
          "data": {
            "text/plain": [
              "[4, [3, [2, [1, []]]]]"
            ]
          },
          "metadata": {},
          "execution_count": 10
        }
      ]
    },
    {
      "cell_type": "markdown",
      "source": [
        "# 4. Write a function srt (lnk) function, which returns True if the linked list lnk is sorted \n",
        "ascendingly from the left to right. If two adjacent elements are equal, the linked list \n",
        "can still be considered sorted.\n",
        "def   srt (lnk):\n",
        "    \"\"\" if the linked list lnk is sorted, then return True\n",
        "    >>> lnk1 = link(1, link(2, link(3, link(4,empty))))\n",
        "    >>> srt (lnk1)\n",
        "    True\n",
        "    >>> lnk2 = link(1, link(3, link(2, link(4, link(5, empty)))))\n",
        "    >>> srt (lnk2)\n",
        "    False\n",
        "    >>> lnk3 = link(3, link(3, link(3, empty)))\n",
        "    >>> srt (lnk3)\n",
        "    True\n",
        "   \"\"\""
      ],
      "metadata": {
        "id": "6qu8KsnNUsl7"
      }
    },
    {
      "cell_type": "code",
      "source": [
        "def   srt (lnk):\n",
        "  prev = None\n",
        "  while lnk != empty:\n",
        "    if prev == None:\n",
        "      prev = first(lnk)\n",
        "    else:\n",
        "      if prev > first(lnk):\n",
        "        return False\n",
        "      else:\n",
        "        prev = first(lnk)\n",
        "        lnk = rest(lnk)\n",
        "\n",
        "  return True\n",
        "\n",
        "    \n",
        "\n",
        "lnk1 = link(1, link(2, link(3, link(4,empty))))\n",
        "print(srt (lnk1))\n",
        "lnk2 = link(1, link(3, link(2, link(4, link(5, empty)))))\n",
        "print(srt (lnk2))\n",
        "lnk3 = link(3, link(3, link(3, empty)))\n",
        "print(srt (lnk3))\n"
      ],
      "metadata": {
        "colab": {
          "base_uri": "https://localhost:8080/"
        },
        "id": "PR5_3772U1kx",
        "outputId": "12973a2c-3696-4a14-87a5-79be451fb126"
      },
      "execution_count": 11,
      "outputs": [
        {
          "output_type": "stream",
          "name": "stdout",
          "text": [
            "True\n",
            "False\n",
            "True\n"
          ]
        }
      ]
    },
    {
      "cell_type": "markdown",
      "source": [
        "# 5. Write a function with arguments a linked list lnk and a function g, which is applied to \n",
        "each number in lnk and returns the sum. If the linked list is empty, the sum is 0.\n",
        "def   sum_lnk(lnk, g):\n",
        "    \"\"\"Applies a function g to each element in lnk and returns the sum\n",
        "    of them\n",
        "    >>> sqr = lambda x: x * x\n",
        "    >>> dbl = lambda y: 2 * y\n",
        "    >>> lnk1 = link(1, link(2, link(3, link(4, empty))))\n",
        "    >>> sum_lnk (lnk1, sqr)\n",
        "    30 # sqr(1) + sqr(2)  + sqr(3)  + sqr(4) \n",
        "    >>> lnk2 = link(3, link(5, link(4, link(6, empty))))\n",
        "    >>> sum_lnk (lnk2, dbl)\n",
        "    36 # dbl(3)+ dbl(5)+ dbl(4)+ dbl(6)\n",
        "   \"\"\""
      ],
      "metadata": {
        "id": "fNrwz-3rWiDh"
      }
    },
    {
      "cell_type": "code",
      "source": [
        "sqr = lambda x: x * x\n",
        "dbl = lambda y: 2 * y\n",
        "\n",
        "def   sum_lnk(lnk, g):\n",
        "  if lnk == empty:\n",
        "    return 0\n",
        "  else:\n",
        "    return g(first(lnk)) + sum_lnk(rest(lnk),g)\n",
        "\n",
        "\n",
        "lnk1 = link(1, link(2, link(3, link(4, empty))))\n",
        "print(sum_lnk (lnk1, sqr))\n",
        "lnk2 = link(3, link(5, link(4, link(6, empty))))\n",
        "print(sum_lnk (lnk2, dbl))"
      ],
      "metadata": {
        "colab": {
          "base_uri": "https://localhost:8080/"
        },
        "id": "8kPQyBgpWlEs",
        "outputId": "4739ad88-8521-49db-b5be-62cfe3d25887"
      },
      "execution_count": 14,
      "outputs": [
        {
          "output_type": "stream",
          "name": "stdout",
          "text": [
            "30\n",
            "36\n"
          ]
        }
      ]
    },
    {
      "cell_type": "markdown",
      "source": [
        "# 6. Define a function with input parameters a linked list, lnk, and two elements, u & v. The \n",
        "function returns linked list but with all elements of u substituted with v.\n",
        "def change(lnk, u, v):\n",
        "\"\"\"Returns a linked list matching lnk but with all elements of u replaced by \n",
        "v. If u does not appear in lnk, then return lnk\n",
        " >>> l = link(1, link(2, link(3, empty)))\n",
        " >>> n=change(l, 3, 1)\n",
        " >>> n\n",
        " [1, [2, [1, [ ] ]]]\n",
        " >>> m=change(n, 1, 2)\n",
        " >>> m\n",
        " [2, [2, [2, [ ]]]]\n",
        " >>> change(m, 5, 1)\n",
        " [2, [2, [2, [ ]]]]\n",
        " \"\"\""
      ],
      "metadata": {
        "id": "Qj_RrfPYXzUF"
      }
    },
    {
      "cell_type": "code",
      "source": [
        "def change(lnk, u, v):\n",
        "  if lnk == empty:\n",
        "    return empty\n",
        "  else:\n",
        "    if first(lnk) == u:\n",
        "      return link(v, change(rest(lnk), u, v))\n",
        "    else:\n",
        "      return link(first(lnk), change(rest(lnk), u, v))\n",
        "\n",
        "\n",
        "l = link(1, link(2, link(3, empty)))\n",
        "print(l)\n",
        "n=change(l, 3, 1)\n",
        "print(n)\n",
        "m=change(n, 1, 2)\n",
        "print(m)\n",
        "change(m, 5, 1)"
      ],
      "metadata": {
        "colab": {
          "base_uri": "https://localhost:8080/"
        },
        "id": "bFd45CLFX0Zb",
        "outputId": "dc27f105-d21c-40e5-a90d-420c9d8d7456"
      },
      "execution_count": 21,
      "outputs": [
        {
          "output_type": "stream",
          "name": "stdout",
          "text": [
            "[1, [2, [3, []]]]\n",
            "[1, [2, [1, []]]]\n",
            "[2, [2, [2, []]]]\n"
          ]
        },
        {
          "output_type": "execute_result",
          "data": {
            "text/plain": [
              "[2, [2, [2, []]]]"
            ]
          },
          "metadata": {},
          "execution_count": 21
        }
      ]
    },
    {
      "cell_type": "markdown",
      "source": [
        "# 7. Generate a function to append element to the end of linked list.\n",
        "def apnd(lnk, m):\n",
        "    \"\"\"Adds the element m to the end of lnk\n",
        "    >>> l = link(1, link(2, link(3, empty)))\n",
        "    >>> n = apnd (l, 4)                    # n = [1, [2, [3, [4, [] ]]]]\n",
        "    >>> first(rest(rest(rest(n))))\n",
        "    4\n",
        "    \"\"\""
      ],
      "metadata": {
        "id": "AQ6ymslscyGx"
      }
    },
    {
      "cell_type": "code",
      "source": [
        "def apnd(lnk, m):\n",
        "    if lnk == empty:\n",
        "      return link(m,empty)\n",
        "    else:\n",
        "      return link(first(lnk), apnd(rest(lnk), m))\n",
        "l = link(1, link(2, link(3, empty)))\n",
        "n = apnd (l, 4)                    # n = [1, [2, [3, [4, [] ]]]]\n",
        "first(rest(rest(rest(n))))"
      ],
      "metadata": {
        "colab": {
          "base_uri": "https://localhost:8080/"
        },
        "id": "CGOAUCZQc1Xu",
        "outputId": "0f23ac21-b46f-40ca-80ef-01ef364da100"
      },
      "execution_count": 22,
      "outputs": [
        {
          "output_type": "execute_result",
          "data": {
            "text/plain": [
              "4"
            ]
          },
          "metadata": {},
          "execution_count": 22
        }
      ]
    },
    {
      "cell_type": "markdown",
      "source": [
        "# 8. Implement the insert function that creates a copy of the original list with an item \n",
        "inserted at the specific index. If the index is greater than the current length, you should \n",
        "insert the item at the end of the list.\n",
        "def insrt(l, elm, ind):\n",
        "    \"\"\"\n",
        "    >>> l = link(11, link(12, link(13, empty)))\n",
        "    >>> n = insrt (l, 2021, 1)\n",
        "    >>> n\n",
        "    [11, [2021, [12, [13, [ ] ]]]]\n",
        "   >>> m = insrt(n, 2022, 20)\n",
        "   >>> m\n",
        "    [11 [2021 [12 [13 [2022, [ ] ]]]]]\n",
        "\"\"\""
      ],
      "metadata": {
        "id": "9yXjvrpvdqoV"
      }
    },
    {
      "cell_type": "code",
      "source": [
        "layer = 0\n",
        "def insrt(l, elm, ind):\n",
        "  global layer\n",
        "  if l == empty:\n",
        "    return link(elm, empty)\n",
        "  else:\n",
        "    if(layer == ind):\n",
        "      return link(elm, l)\n",
        "    else:\n",
        "      return link(first(l), insrt(rest(l), elm, ind - 1))\n",
        "l = link(11, link(12, link(13, empty)))\n",
        "n = insrt (l, 2021, 1)\n",
        "print(n)\n",
        "m = insrt(n, 2022, 20)\n",
        "print(m)\n"
      ],
      "metadata": {
        "colab": {
          "base_uri": "https://localhost:8080/"
        },
        "id": "rTZDY950dtT9",
        "outputId": "0af20832-c287-421e-fa2d-0121babeadc4"
      },
      "execution_count": 24,
      "outputs": [
        {
          "output_type": "stream",
          "name": "stdout",
          "text": [
            "[11, [2021, [12, [13, []]]]]\n",
            "[11, [2021, [12, [13, [2022, []]]]]]\n"
          ]
        }
      ]
    }
  ]
}